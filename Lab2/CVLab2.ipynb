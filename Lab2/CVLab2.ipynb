{
 "cells": [
  {
   "cell_type": "code",
   "execution_count": 1,
   "id": "d45acdce-50e9-4ddb-bd81-d9c82e3ffa78",
   "metadata": {},
   "outputs": [],
   "source": [
    "import cv2 \n",
    "import numpy as np"
   ]
  },
  {
   "cell_type": "code",
   "execution_count": 3,
   "id": "898598a9-32f6-4b5b-a141-439744334428",
   "metadata": {},
   "outputs": [
    {
     "data": {
      "text/plain": [
       "['1.jpg', '2.jpg', '3.jpg', '4.jpg']"
      ]
     },
     "execution_count": 3,
     "metadata": {},
     "output_type": "execute_result"
    }
   ],
   "source": [
    "imagesPath= [ \"{}.jpg\".format(i) for i in range(1,5)]\n",
    "imagesPath"
   ]
  },
  {
   "cell_type": "code",
   "execution_count": 26,
   "id": "949ff824-7cf8-4a4a-b25e-5c1f0ddfa4d4",
   "metadata": {},
   "outputs": [],
   "source": [
    "imagelist=[]\n",
    "for i in imagesPath:\n",
    "    c=cv2.imread(i)\n",
    "    imagesPath.append(c)"
   ]
  },
  {
   "cell_type": "code",
   "execution_count": 28,
   "id": "0f75b8f3-120a-4ce6-ae44-4867e1b36a51",
   "metadata": {},
   "outputs": [],
   "source": [
    "def stitch_and_resize(images, output_width):\n",
    "    # Convert images to grayscale (optional, depends on your images)\n",
    "    gray_images = [cv2.cvtColor(img, cv2.COLOR_BGR2GRAY) for img in images]\n",
    "\n",
    "    # Create a Stitcher object\n",
    "    stitcher = cv2.Stitcher_create()\n",
    "\n",
    "    # Stitch the images\n",
    "    status, stitched_image = stitcher.stitch(gray_images)\n",
    "\n",
    "    # If stitching failed, status will be cv2.Stitcher_OK\n",
    "    if status == cv2.Stitcher_OK:\n",
    "        # Resize the stitched image while maintaining the aspect ratio\n",
    "        aspect_ratio = float(output_width) / stitched_image.shape[1]\n",
    "        new_height = int(stitched_image.shape[0] * aspect_ratio)\n",
    "        resized_image = cv2.resize(stitched_image, (output_width, new_height))\n",
    "        return resized_image\n",
    "    else:\n",
    "        print(f\"Stitching failed with error code: {status}\")\n",
    "        return None"
   ]
  },
  {
   "cell_type": "code",
   "execution_count": 33,
   "id": "d8b57a12-a219-4ca8-907e-684e7e07a7b9",
   "metadata": {},
   "outputs": [],
   "source": [
    "img1 = cv2.imread('1.jpg')\n",
    "img2 = cv2.imread('2.jpg')\n",
    "img3 = cv2.imread('3.jpg')\n",
    "img4 = cv2.imread('4.jpg')"
   ]
  },
  {
   "cell_type": "code",
   "execution_count": 35,
   "id": "1b3cd145-1dbe-4a52-98a7-0393b2f32d31",
   "metadata": {},
   "outputs": [
    {
     "ename": "error",
     "evalue": "OpenCV(4.8.1) D:\\a\\opencv-python\\opencv-python\\opencv\\modules\\stitching\\src\\exposure_compensate.cpp:564: error: (-215:Assertion failed) _image.type() == CV_8UC3 in function 'cv::detail::BlocksCompensator::apply'\n",
     "output_type": "error",
     "traceback": [
      "\u001b[1;31m---------------------------------------------------------------------------\u001b[0m",
      "\u001b[1;31merror\u001b[0m                                     Traceback (most recent call last)",
      "Cell \u001b[1;32mIn[35], line 4\u001b[0m\n\u001b[0;32m      1\u001b[0m \u001b[38;5;66;03m# Set the desired width for the output image\u001b[39;00m\n\u001b[0;32m      2\u001b[0m output_width \u001b[38;5;241m=\u001b[39m \u001b[38;5;241m800\u001b[39m\n\u001b[1;32m----> 4\u001b[0m result \u001b[38;5;241m=\u001b[39m stitch_and_resize([img1,img2,img3,img4], output_width)\n\u001b[0;32m      6\u001b[0m \u001b[38;5;28;01mif\u001b[39;00m result \u001b[38;5;129;01mis\u001b[39;00m \u001b[38;5;129;01mnot\u001b[39;00m \u001b[38;5;28;01mNone\u001b[39;00m:\n\u001b[0;32m      7\u001b[0m     cv2\u001b[38;5;241m.\u001b[39mimshow(\u001b[38;5;124m'\u001b[39m\u001b[38;5;124mStitched and Resized Image\u001b[39m\u001b[38;5;124m'\u001b[39m, result)\n",
      "Cell \u001b[1;32mIn[28], line 9\u001b[0m, in \u001b[0;36mstitch_and_resize\u001b[1;34m(images, output_width)\u001b[0m\n\u001b[0;32m      6\u001b[0m stitcher \u001b[38;5;241m=\u001b[39m cv2\u001b[38;5;241m.\u001b[39mStitcher_create()\n\u001b[0;32m      8\u001b[0m \u001b[38;5;66;03m# Stitch the images\u001b[39;00m\n\u001b[1;32m----> 9\u001b[0m status, stitched_image \u001b[38;5;241m=\u001b[39m stitcher\u001b[38;5;241m.\u001b[39mstitch(gray_images)\n\u001b[0;32m     11\u001b[0m \u001b[38;5;66;03m# If stitching failed, status will be cv2.Stitcher_OK\u001b[39;00m\n\u001b[0;32m     12\u001b[0m \u001b[38;5;28;01mif\u001b[39;00m status \u001b[38;5;241m==\u001b[39m cv2\u001b[38;5;241m.\u001b[39mStitcher_OK:\n\u001b[0;32m     13\u001b[0m     \u001b[38;5;66;03m# Resize the stitched image while maintaining the aspect ratio\u001b[39;00m\n",
      "\u001b[1;31merror\u001b[0m: OpenCV(4.8.1) D:\\a\\opencv-python\\opencv-python\\opencv\\modules\\stitching\\src\\exposure_compensate.cpp:564: error: (-215:Assertion failed) _image.type() == CV_8UC3 in function 'cv::detail::BlocksCompensator::apply'\n"
     ]
    }
   ],
   "source": [
    "# Set the desired width for the output image\n",
    "output_width = 800\n",
    "\n",
    "result = stitch_and_resize([img1,img2,img3,img4], output_width)\n",
    "\n",
    "if result is not None:\n",
    "    cv2.imshow('Stitched and Resized Image', result)\n",
    "    cv2.waitKey(0)\n",
    "    cv2.destroyAllWindows()"
   ]
  },
  {
   "cell_type": "code",
   "execution_count": 15,
   "id": "432432b0-3155-41ac-8fdb-f903e36acfc5",
   "metadata": {},
   "outputs": [
    {
     "name": "stdout",
     "output_type": "stream",
     "text": [
      "Image stitching failed\n"
     ]
    }
   ],
   "source": [
    "status, stitched_image = stitcher.stitch(images)\n",
    "if status == cv2.Stitcher_OK:\n",
    "    # Display the stitched image\n",
    "    cv2.imshow('Stitched Image', stitched_image)\n",
    "    cv2.waitKey(0)\n",
    "    cv2.destroyAllWindows()\n",
    "else:\n",
    "    print('Image stitching failed')"
   ]
  },
  {
   "cell_type": "code",
   "execution_count": null,
   "id": "d7849605-df76-4547-b56d-6697e88a8655",
   "metadata": {},
   "outputs": [],
   "source": []
  }
 ],
 "metadata": {
  "kernelspec": {
   "display_name": "Python 3 (ipykernel)",
   "language": "python",
   "name": "python3"
  },
  "language_info": {
   "codemirror_mode": {
    "name": "ipython",
    "version": 3
   },
   "file_extension": ".py",
   "mimetype": "text/x-python",
   "name": "python",
   "nbconvert_exporter": "python",
   "pygments_lexer": "ipython3",
   "version": "3.11.7"
  }
 },
 "nbformat": 4,
 "nbformat_minor": 5
}
